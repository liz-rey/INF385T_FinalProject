{
  "cells": [
    {
      "cell_type": "code",
      "id": "yFWFakHtiFORCAIhCzwNcpns",
      "metadata": {
        "tags": [],
        "id": "yFWFakHtiFORCAIhCzwNcpns",
        "executionInfo": {
          "status": "ok",
          "timestamp": 1732835319113,
          "user_tz": 360,
          "elapsed": 205,
          "user": {
            "displayName": "",
            "userId": ""
          }
        }
      },
      "source": [
        "import pandas as pd\n",
        "\n",
        "# Load the TSV files and specify column names\n",
        "train_df = pd.read_csv('train.tsv', sep='\\t', header=None, names=['Comment', 'Emotion', 'Comment ID'])\n",
        "dev_df = pd.read_csv('dev.tsv', sep='\\t', header=None, names=['Comment', 'Emotion', 'Comment ID'])\n",
        "test_df = pd.read_csv('test.tsv', sep='\\t', header=None, names=['Comment', 'Emotion', 'Comment ID'])"
      ],
      "execution_count": 23,
      "outputs": []
    },
    {
      "cell_type": "markdown",
      "source": [
        "## Selecting 1 emotion label for rows having multiple"
      ],
      "metadata": {
        "id": "WY_X4XMtBMRz"
      },
      "id": "WY_X4XMtBMRz"
    },
    {
      "cell_type": "code",
      "source": [
        "def split_and_duplicate_rows(df):\n",
        "    df['Emotion'] = df['Emotion'].astype(str).apply(lambda x: x.split(',')[0])\n",
        "\n",
        "    # Convert 'Emotion' column to integer\n",
        "    df['Emotion'] = df['Emotion'].astype(int)\n",
        "\n",
        "    return df\n",
        "\n",
        "# Apply the function to each DataFrame\n",
        "train_df = split_and_duplicate_rows(train_df)\n",
        "dev_df = split_and_duplicate_rows(dev_df)\n",
        "test_df = split_and_duplicate_rows(test_df)\n",
        "\n",
        "# Convert the labels to integers and ensure they are of dtype long\n",
        "train_df['Emotion'] = train_df['Emotion'].astype(int)\n",
        "dev_df['Emotion'] = dev_df['Emotion'].astype(int)\n",
        "test_df['Emotion'] = test_df['Emotion'].astype(int)\n",
        "\n",
        "# Verify the result\n",
        "print(dev_df.head())"
      ],
      "metadata": {
        "colab": {
          "base_uri": "https://localhost:8080/"
        },
        "id": "TjJ2WgEuOfoK",
        "executionInfo": {
          "status": "ok",
          "timestamp": 1732835320318,
          "user_tz": 360,
          "elapsed": 145,
          "user": {
            "displayName": "",
            "userId": ""
          }
        },
        "outputId": "a65ce94f-5b1d-4e4a-8432-abdd91721b0c"
      },
      "id": "TjJ2WgEuOfoK",
      "execution_count": 24,
      "outputs": [
        {
          "output_type": "stream",
          "name": "stdout",
          "text": [
            "                                             Comment  Emotion Comment ID\n",
            "0  Is this in New Orleans?? I really feel like th...       27    edgurhb\n",
            "1  You know the answer man, you are programmed to...        4    ee84bjg\n",
            "2               I've never been this sad in my life!       25    edcu99z\n",
            "3  The economy is heavily controlled and subsidiz...        4    edc32e2\n",
            "4  He could have easily taken a real camera from ...       20    eepig6r\n"
          ]
        }
      ]
    },
    {
      "cell_type": "markdown",
      "source": [
        "## Reducing number of emotion labels to 6 from 28"
      ],
      "metadata": {
        "id": "JOwBGcYi_6xX"
      },
      "id": "JOwBGcYi_6xX"
    },
    {
      "cell_type": "code",
      "source": [
        "# Define a mapping to reduce numeric emotions from 28 to 7 categories (including neutral)\n",
        "emotion_reduction_mapping = {\n",
        "    # Happiness\n",
        "    0: 0,  # admiration -> happiness\n",
        "    1: 0,  # amusement -> happiness\n",
        "    13: 0, # excitement -> happiness\n",
        "    15: 0, # gratitude -> happiness\n",
        "    21: 0, # pride -> happiness\n",
        "    17: 0, # joy -> happiness\n",
        "    18: 0, # love -> happiness\n",
        "    20: 0, # optimism -> happiness\n",
        "    23: 0, # relief -> happiness\n",
        "\n",
        "    # Surprise\n",
        "    22: 1, # realization -> surprise\n",
        "    26: 1, # surprise -> surprise\n",
        "\n",
        "    # Sadness\n",
        "    16: 2, # grief -> sadness\n",
        "    25: 2, # sadness -> sadness\n",
        "    9: 2,  # disappointment -> sadness\n",
        "    12: 2, # embarrassment -> sadness\n",
        "\n",
        "    # Anger\n",
        "    2: 3,  # anger -> anger\n",
        "    3: 3,  # annoyance -> anger\n",
        "\n",
        "    # Disgust\n",
        "    11: 4, # disgust -> disgust\n",
        "    10: 4, # disapproval -> disgust\n",
        "\n",
        "    # Fear\n",
        "    14: 5, # fear -> fear\n",
        "    19: 5, # nervousness -> fear\n",
        "\n",
        "    # Neutral\n",
        "    27: 6  # neutral -> neutral\n",
        "}\n",
        "\n",
        "def reduce_emotions_numeric(df):\n",
        "    # Map the emotions to the reduced categories\n",
        "    df['Emotion'] = df['Emotion'].apply(lambda x: emotion_reduction_mapping.get(x, None))\n",
        "\n",
        "    # Drop rows with unmapped or invalid emotions\n",
        "    df.dropna(subset=['Emotion'], inplace=True)\n",
        "\n",
        "    # Ensure Emotion column is of integer type\n",
        "    df['Emotion'] = df['Emotion'].astype(int)\n",
        "\n",
        "    return df\n",
        "\n",
        "# Apply the mapping to all datasets\n",
        "train_df = reduce_emotions_numeric(train_df)\n",
        "dev_df = reduce_emotions_numeric(dev_df)\n",
        "test_df = reduce_emotions_numeric(test_df)\n",
        "\n",
        "# Check the results\n",
        "print(train_df.head())\n"
      ],
      "metadata": {
        "id": "jv-AOvE6LTU1",
        "colab": {
          "base_uri": "https://localhost:8080/"
        },
        "executionInfo": {
          "status": "ok",
          "timestamp": 1732835362444,
          "user_tz": 360,
          "elapsed": 145,
          "user": {
            "displayName": "",
            "userId": ""
          }
        },
        "outputId": "be53eac0-9d3f-4e40-e4a4-c25df34b9ecf"
      },
      "id": "jv-AOvE6LTU1",
      "execution_count": 25,
      "outputs": [
        {
          "output_type": "stream",
          "name": "stdout",
          "text": [
            "                                             Comment  Emotion Comment ID\n",
            "0  My favourite food is anything I didn't have to...        6    eebbqej\n",
            "1  Now if he does off himself, everyone will thin...        6    ed00q6i\n",
            "2                     WHY THE FUCK IS BAYLESS ISOING        3    eezlygj\n",
            "3                        To make her feel threatened        5    ed7ypvh\n",
            "4                             Dirty Southern Wankers        3    ed0bdzj\n"
          ]
        }
      ]
    },
    {
      "cell_type": "code",
      "source": [
        "# Inspect the unique values in the Emotion column\n",
        "print(\"Train Emotion Types and Values:\", train_df['Emotion'].apply(type).unique(), train_df['Emotion'].unique())\n",
        "print(\"Dev Emotion Types and Values:\", dev_df['Emotion'].apply(type).unique(), dev_df['Emotion'].unique())\n",
        "print(\"Test Emotion Types and Values:\", test_df['Emotion'].apply(type).unique(), test_df['Emotion'].unique())\n"
      ],
      "metadata": {
        "colab": {
          "base_uri": "https://localhost:8080/"
        },
        "id": "4wwk9SX78j2I",
        "executionInfo": {
          "status": "ok",
          "timestamp": 1732835368380,
          "user_tz": 360,
          "elapsed": 126,
          "user": {
            "displayName": "",
            "userId": ""
          }
        },
        "outputId": "5141b327-6932-4db8-8574-0518f250ca7b"
      },
      "id": "4wwk9SX78j2I",
      "execution_count": 26,
      "outputs": [
        {
          "output_type": "stream",
          "name": "stdout",
          "text": [
            "Train Emotion Types and Values: [<class 'int'>] [6 3 5 1 0 2 4]\n",
            "Dev Emotion Types and Values: [<class 'int'>] [6 2 0 3 4 5 1]\n",
            "Test Emotion Types and Values: [<class 'int'>] [2 0 6 3 5 4 1]\n"
          ]
        }
      ]
    },
    {
      "cell_type": "code",
      "source": [
        "dev_df.head()"
      ],
      "metadata": {
        "colab": {
          "base_uri": "https://localhost:8080/",
          "height": 204
        },
        "id": "Z58wt11iLVE5",
        "executionInfo": {
          "status": "ok",
          "timestamp": 1732835375746,
          "user_tz": 360,
          "elapsed": 163,
          "user": {
            "displayName": "",
            "userId": ""
          }
        },
        "outputId": "cc226749-873f-454d-df50-bb44186db677"
      },
      "id": "Z58wt11iLVE5",
      "execution_count": 27,
      "outputs": [
        {
          "output_type": "execute_result",
          "data": {
            "text/plain": [
              "                                             Comment  Emotion Comment ID\n",
              "0  Is this in New Orleans?? I really feel like th...        6    edgurhb\n",
              "2               I've never been this sad in my life!        2    edcu99z\n",
              "4  He could have easily taken a real camera from ...        0    eepig6r\n",
              "5  Thank you for your vote of confidence, but we ...        0    eczm50f\n",
              "6  Wah Mum other people call me on my bullshit an...        3    ed4yr9r"
            ],
            "text/html": [
              "\n",
              "  <div id=\"df-439ca09b-d3c3-457a-b8c0-283038cf7f69\" class=\"colab-df-container\">\n",
              "    <div>\n",
              "<style scoped>\n",
              "    .dataframe tbody tr th:only-of-type {\n",
              "        vertical-align: middle;\n",
              "    }\n",
              "\n",
              "    .dataframe tbody tr th {\n",
              "        vertical-align: top;\n",
              "    }\n",
              "\n",
              "    .dataframe thead th {\n",
              "        text-align: right;\n",
              "    }\n",
              "</style>\n",
              "<table border=\"1\" class=\"dataframe\">\n",
              "  <thead>\n",
              "    <tr style=\"text-align: right;\">\n",
              "      <th></th>\n",
              "      <th>Comment</th>\n",
              "      <th>Emotion</th>\n",
              "      <th>Comment ID</th>\n",
              "    </tr>\n",
              "  </thead>\n",
              "  <tbody>\n",
              "    <tr>\n",
              "      <th>0</th>\n",
              "      <td>Is this in New Orleans?? I really feel like th...</td>\n",
              "      <td>6</td>\n",
              "      <td>edgurhb</td>\n",
              "    </tr>\n",
              "    <tr>\n",
              "      <th>2</th>\n",
              "      <td>I've never been this sad in my life!</td>\n",
              "      <td>2</td>\n",
              "      <td>edcu99z</td>\n",
              "    </tr>\n",
              "    <tr>\n",
              "      <th>4</th>\n",
              "      <td>He could have easily taken a real camera from ...</td>\n",
              "      <td>0</td>\n",
              "      <td>eepig6r</td>\n",
              "    </tr>\n",
              "    <tr>\n",
              "      <th>5</th>\n",
              "      <td>Thank you for your vote of confidence, but we ...</td>\n",
              "      <td>0</td>\n",
              "      <td>eczm50f</td>\n",
              "    </tr>\n",
              "    <tr>\n",
              "      <th>6</th>\n",
              "      <td>Wah Mum other people call me on my bullshit an...</td>\n",
              "      <td>3</td>\n",
              "      <td>ed4yr9r</td>\n",
              "    </tr>\n",
              "  </tbody>\n",
              "</table>\n",
              "</div>\n",
              "    <div class=\"colab-df-buttons\">\n",
              "\n",
              "  <div class=\"colab-df-container\">\n",
              "    <button class=\"colab-df-convert\" onclick=\"convertToInteractive('df-439ca09b-d3c3-457a-b8c0-283038cf7f69')\"\n",
              "            title=\"Convert this dataframe to an interactive table.\"\n",
              "            style=\"display:none;\">\n",
              "\n",
              "  <svg xmlns=\"http://www.w3.org/2000/svg\" height=\"24px\" viewBox=\"0 -960 960 960\">\n",
              "    <path d=\"M120-120v-720h720v720H120Zm60-500h600v-160H180v160Zm220 220h160v-160H400v160Zm0 220h160v-160H400v160ZM180-400h160v-160H180v160Zm440 0h160v-160H620v160ZM180-180h160v-160H180v160Zm440 0h160v-160H620v160Z\"/>\n",
              "  </svg>\n",
              "    </button>\n",
              "\n",
              "  <style>\n",
              "    .colab-df-container {\n",
              "      display:flex;\n",
              "      gap: 12px;\n",
              "    }\n",
              "\n",
              "    .colab-df-convert {\n",
              "      background-color: #E8F0FE;\n",
              "      border: none;\n",
              "      border-radius: 50%;\n",
              "      cursor: pointer;\n",
              "      display: none;\n",
              "      fill: #1967D2;\n",
              "      height: 32px;\n",
              "      padding: 0 0 0 0;\n",
              "      width: 32px;\n",
              "    }\n",
              "\n",
              "    .colab-df-convert:hover {\n",
              "      background-color: #E2EBFA;\n",
              "      box-shadow: 0px 1px 2px rgba(60, 64, 67, 0.3), 0px 1px 3px 1px rgba(60, 64, 67, 0.15);\n",
              "      fill: #174EA6;\n",
              "    }\n",
              "\n",
              "    .colab-df-buttons div {\n",
              "      margin-bottom: 4px;\n",
              "    }\n",
              "\n",
              "    [theme=dark] .colab-df-convert {\n",
              "      background-color: #3B4455;\n",
              "      fill: #D2E3FC;\n",
              "    }\n",
              "\n",
              "    [theme=dark] .colab-df-convert:hover {\n",
              "      background-color: #434B5C;\n",
              "      box-shadow: 0px 1px 3px 1px rgba(0, 0, 0, 0.15);\n",
              "      filter: drop-shadow(0px 1px 2px rgba(0, 0, 0, 0.3));\n",
              "      fill: #FFFFFF;\n",
              "    }\n",
              "  </style>\n",
              "\n",
              "    <script>\n",
              "      const buttonEl =\n",
              "        document.querySelector('#df-439ca09b-d3c3-457a-b8c0-283038cf7f69 button.colab-df-convert');\n",
              "      buttonEl.style.display =\n",
              "        google.colab.kernel.accessAllowed ? 'block' : 'none';\n",
              "\n",
              "      async function convertToInteractive(key) {\n",
              "        const element = document.querySelector('#df-439ca09b-d3c3-457a-b8c0-283038cf7f69');\n",
              "        const dataTable =\n",
              "          await google.colab.kernel.invokeFunction('convertToInteractive',\n",
              "                                                    [key], {});\n",
              "        if (!dataTable) return;\n",
              "\n",
              "        const docLinkHtml = 'Like what you see? Visit the ' +\n",
              "          '<a target=\"_blank\" href=https://colab.research.google.com/notebooks/data_table.ipynb>data table notebook</a>'\n",
              "          + ' to learn more about interactive tables.';\n",
              "        element.innerHTML = '';\n",
              "        dataTable['output_type'] = 'display_data';\n",
              "        await google.colab.output.renderOutput(dataTable, element);\n",
              "        const docLink = document.createElement('div');\n",
              "        docLink.innerHTML = docLinkHtml;\n",
              "        element.appendChild(docLink);\n",
              "      }\n",
              "    </script>\n",
              "  </div>\n",
              "\n",
              "\n",
              "<div id=\"df-6e86d418-35e3-4e9c-9f21-371ff7b679b6\">\n",
              "  <button class=\"colab-df-quickchart\" onclick=\"quickchart('df-6e86d418-35e3-4e9c-9f21-371ff7b679b6')\"\n",
              "            title=\"Suggest charts\"\n",
              "            style=\"display:none;\">\n",
              "\n",
              "<svg xmlns=\"http://www.w3.org/2000/svg\" height=\"24px\"viewBox=\"0 0 24 24\"\n",
              "     width=\"24px\">\n",
              "    <g>\n",
              "        <path d=\"M19 3H5c-1.1 0-2 .9-2 2v14c0 1.1.9 2 2 2h14c1.1 0 2-.9 2-2V5c0-1.1-.9-2-2-2zM9 17H7v-7h2v7zm4 0h-2V7h2v10zm4 0h-2v-4h2v4z\"/>\n",
              "    </g>\n",
              "</svg>\n",
              "  </button>\n",
              "\n",
              "<style>\n",
              "  .colab-df-quickchart {\n",
              "      --bg-color: #E8F0FE;\n",
              "      --fill-color: #1967D2;\n",
              "      --hover-bg-color: #E2EBFA;\n",
              "      --hover-fill-color: #174EA6;\n",
              "      --disabled-fill-color: #AAA;\n",
              "      --disabled-bg-color: #DDD;\n",
              "  }\n",
              "\n",
              "  [theme=dark] .colab-df-quickchart {\n",
              "      --bg-color: #3B4455;\n",
              "      --fill-color: #D2E3FC;\n",
              "      --hover-bg-color: #434B5C;\n",
              "      --hover-fill-color: #FFFFFF;\n",
              "      --disabled-bg-color: #3B4455;\n",
              "      --disabled-fill-color: #666;\n",
              "  }\n",
              "\n",
              "  .colab-df-quickchart {\n",
              "    background-color: var(--bg-color);\n",
              "    border: none;\n",
              "    border-radius: 50%;\n",
              "    cursor: pointer;\n",
              "    display: none;\n",
              "    fill: var(--fill-color);\n",
              "    height: 32px;\n",
              "    padding: 0;\n",
              "    width: 32px;\n",
              "  }\n",
              "\n",
              "  .colab-df-quickchart:hover {\n",
              "    background-color: var(--hover-bg-color);\n",
              "    box-shadow: 0 1px 2px rgba(60, 64, 67, 0.3), 0 1px 3px 1px rgba(60, 64, 67, 0.15);\n",
              "    fill: var(--button-hover-fill-color);\n",
              "  }\n",
              "\n",
              "  .colab-df-quickchart-complete:disabled,\n",
              "  .colab-df-quickchart-complete:disabled:hover {\n",
              "    background-color: var(--disabled-bg-color);\n",
              "    fill: var(--disabled-fill-color);\n",
              "    box-shadow: none;\n",
              "  }\n",
              "\n",
              "  .colab-df-spinner {\n",
              "    border: 2px solid var(--fill-color);\n",
              "    border-color: transparent;\n",
              "    border-bottom-color: var(--fill-color);\n",
              "    animation:\n",
              "      spin 1s steps(1) infinite;\n",
              "  }\n",
              "\n",
              "  @keyframes spin {\n",
              "    0% {\n",
              "      border-color: transparent;\n",
              "      border-bottom-color: var(--fill-color);\n",
              "      border-left-color: var(--fill-color);\n",
              "    }\n",
              "    20% {\n",
              "      border-color: transparent;\n",
              "      border-left-color: var(--fill-color);\n",
              "      border-top-color: var(--fill-color);\n",
              "    }\n",
              "    30% {\n",
              "      border-color: transparent;\n",
              "      border-left-color: var(--fill-color);\n",
              "      border-top-color: var(--fill-color);\n",
              "      border-right-color: var(--fill-color);\n",
              "    }\n",
              "    40% {\n",
              "      border-color: transparent;\n",
              "      border-right-color: var(--fill-color);\n",
              "      border-top-color: var(--fill-color);\n",
              "    }\n",
              "    60% {\n",
              "      border-color: transparent;\n",
              "      border-right-color: var(--fill-color);\n",
              "    }\n",
              "    80% {\n",
              "      border-color: transparent;\n",
              "      border-right-color: var(--fill-color);\n",
              "      border-bottom-color: var(--fill-color);\n",
              "    }\n",
              "    90% {\n",
              "      border-color: transparent;\n",
              "      border-bottom-color: var(--fill-color);\n",
              "    }\n",
              "  }\n",
              "</style>\n",
              "\n",
              "  <script>\n",
              "    async function quickchart(key) {\n",
              "      const quickchartButtonEl =\n",
              "        document.querySelector('#' + key + ' button');\n",
              "      quickchartButtonEl.disabled = true;  // To prevent multiple clicks.\n",
              "      quickchartButtonEl.classList.add('colab-df-spinner');\n",
              "      try {\n",
              "        const charts = await google.colab.kernel.invokeFunction(\n",
              "            'suggestCharts', [key], {});\n",
              "      } catch (error) {\n",
              "        console.error('Error during call to suggestCharts:', error);\n",
              "      }\n",
              "      quickchartButtonEl.classList.remove('colab-df-spinner');\n",
              "      quickchartButtonEl.classList.add('colab-df-quickchart-complete');\n",
              "    }\n",
              "    (() => {\n",
              "      let quickchartButtonEl =\n",
              "        document.querySelector('#df-6e86d418-35e3-4e9c-9f21-371ff7b679b6 button');\n",
              "      quickchartButtonEl.style.display =\n",
              "        google.colab.kernel.accessAllowed ? 'block' : 'none';\n",
              "    })();\n",
              "  </script>\n",
              "</div>\n",
              "    </div>\n",
              "  </div>\n"
            ]
          },
          "metadata": {},
          "execution_count": 27
        }
      ]
    },
    {
      "cell_type": "markdown",
      "source": [
        "## Data Augmentation"
      ],
      "metadata": {
        "id": "i7vBksL1AP30"
      },
      "id": "i7vBksL1AP30"
    },
    {
      "cell_type": "code",
      "source": [
        "import nlpaug.augmenter.word as naw\n",
        "\n",
        "# Define the synonym augmenter\n",
        "synonym_aug = naw.SynonymAug(aug_src='wordnet')\n",
        "\n",
        "# Function to augment data for a specific emotion\n",
        "def augment_emotion_rows(df, emotion, augmenter, num_augments=2):\n",
        "    # Filter rows for the specified emotion\n",
        "    emotion_rows = df[df['Emotion'] == emotion].copy()\n",
        "    augmented_texts = []\n",
        "\n",
        "    # Augment each comment\n",
        "    for text in emotion_rows['Comment']:\n",
        "        for _ in range(num_augments):\n",
        "            augmented_texts.append(augmenter.augment(text))\n",
        "\n",
        "    # Create a new DataFrame with augmented data\n",
        "    augmented_df = pd.DataFrame({\n",
        "        'Comment': augmented_texts,\n",
        "        'Emotion': [emotion] * len(augmented_texts)\n",
        "    })\n",
        "\n",
        "    return augmented_df\n",
        "\n",
        "# Augment emotions 1 to 5\n",
        "augmented_dfs = []\n",
        "for emotion in range(1, 6):\n",
        "    augmented_dfs.append(augment_emotion_rows(train_df, emotion, synonym_aug, num_augments=3))\n",
        "\n",
        "# Combine all augmented data\n",
        "augmented_data = pd.concat(augmented_dfs)\n",
        "\n",
        "# Add augmented data to the original training dataset\n",
        "train_df = pd.concat([train_df, augmented_data]).reset_index(drop=True)\n",
        "\n",
        "# Verify the class distribution\n",
        "print(train_df['Emotion'].value_counts())\n"
      ],
      "metadata": {
        "colab": {
          "base_uri": "https://localhost:8080/"
        },
        "id": "IY8hcB92-3Ns",
        "executionInfo": {
          "status": "ok",
          "timestamp": 1732835442166,
          "user_tz": 360,
          "elapsed": 36171,
          "user": {
            "displayName": "",
            "userId": ""
          }
        },
        "outputId": "c41c7150-f90f-4456-b5eb-9f2f72903957"
      },
      "id": "IY8hcB92-3Ns",
      "execution_count": 29,
      "outputs": [
        {
          "output_type": "stream",
          "name": "stdout",
          "text": [
            "Emotion\n",
            "3    14740\n",
            "0    12843\n",
            "6    12823\n",
            "4     8924\n",
            "2     8860\n",
            "1     5796\n",
            "5     2460\n",
            "Name: count, dtype: int64\n"
          ]
        }
      ]
    },
    {
      "cell_type": "markdown",
      "source": [
        "## Preprocessing"
      ],
      "metadata": {
        "id": "7JevXAeWKutG"
      },
      "id": "7JevXAeWKutG"
    },
    {
      "cell_type": "code",
      "source": [
        "# Updated preprocess function\n",
        "import re\n",
        "\n",
        "def preprocess(text):\n",
        "    if isinstance(text, list):  # If the entry is a list, join it into a string\n",
        "        text = ' '.join(text)\n",
        "    text = text.lower()\n",
        "    # Remove special characters and punctuation\n",
        "    text = re.sub(r'[^\\w\\s]', '', text)\n",
        "    # Remove extra whitespaces\n",
        "    text = re.sub(r'\\s+', ' ', text).strip()\n",
        "    return text\n",
        "\n",
        "# Apply preprocessing to each DataFrame\n",
        "train_df['Comment'] = train_df['Comment'].apply(preprocess)\n",
        "dev_df['Comment'] = dev_df['Comment'].apply(preprocess)\n",
        "test_df['Comment'] = test_df['Comment'].apply(preprocess)\n",
        "\n",
        "# Drop any rows with NaN values in the Comment column\n",
        "train_df.dropna()\n",
        "dev_df.dropna()\n",
        "test_df.dropna()\n"
      ],
      "metadata": {
        "id": "hplShUSJIO6B",
        "executionInfo": {
          "status": "ok",
          "timestamp": 1732835662811,
          "user_tz": 360,
          "elapsed": 837,
          "user": {
            "displayName": "",
            "userId": ""
          }
        },
        "colab": {
          "base_uri": "https://localhost:8080/",
          "height": 419
        },
        "outputId": "d64758b6-1770-43e1-d7b7-07d24012ea1a"
      },
      "id": "hplShUSJIO6B",
      "execution_count": 32,
      "outputs": [
        {
          "output_type": "execute_result",
          "data": {
            "text/plain": [
              "                                                Comment  Emotion Comment ID\n",
              "0     im really sorry about your situation although ...        2    eecwqtt\n",
              "1           its wonderful because its awful at not with        0    ed5f85d\n",
              "2     kings fan here good luck to you guys will be a...        0    een27c3\n",
              "3     i didnt know that thank you for teaching me so...        0    eelgwd1\n",
              "4     they got bored from haunting earth for thousan...        6    eem5uti\n",
              "...                                                 ...      ...        ...\n",
              "5421  easy just include name to continue to torment ...        6    edy4kl7\n",
              "5422  thanks i was diagnosed with bp 1 after the hos...        0    efeeasc\n",
              "5424                                  daddy issues name        6    efbiugo\n",
              "5425  so glad i discovered that subreddit a couple m...        0    efbvgp9\n",
              "5426  had to watch elmo in grouchland one time too m...        6    edtjpv6\n",
              "\n",
              "[4503 rows x 3 columns]"
            ],
            "text/html": [
              "\n",
              "  <div id=\"df-1733cb08-3866-4131-8392-33429fde920f\" class=\"colab-df-container\">\n",
              "    <div>\n",
              "<style scoped>\n",
              "    .dataframe tbody tr th:only-of-type {\n",
              "        vertical-align: middle;\n",
              "    }\n",
              "\n",
              "    .dataframe tbody tr th {\n",
              "        vertical-align: top;\n",
              "    }\n",
              "\n",
              "    .dataframe thead th {\n",
              "        text-align: right;\n",
              "    }\n",
              "</style>\n",
              "<table border=\"1\" class=\"dataframe\">\n",
              "  <thead>\n",
              "    <tr style=\"text-align: right;\">\n",
              "      <th></th>\n",
              "      <th>Comment</th>\n",
              "      <th>Emotion</th>\n",
              "      <th>Comment ID</th>\n",
              "    </tr>\n",
              "  </thead>\n",
              "  <tbody>\n",
              "    <tr>\n",
              "      <th>0</th>\n",
              "      <td>im really sorry about your situation although ...</td>\n",
              "      <td>2</td>\n",
              "      <td>eecwqtt</td>\n",
              "    </tr>\n",
              "    <tr>\n",
              "      <th>1</th>\n",
              "      <td>its wonderful because its awful at not with</td>\n",
              "      <td>0</td>\n",
              "      <td>ed5f85d</td>\n",
              "    </tr>\n",
              "    <tr>\n",
              "      <th>2</th>\n",
              "      <td>kings fan here good luck to you guys will be a...</td>\n",
              "      <td>0</td>\n",
              "      <td>een27c3</td>\n",
              "    </tr>\n",
              "    <tr>\n",
              "      <th>3</th>\n",
              "      <td>i didnt know that thank you for teaching me so...</td>\n",
              "      <td>0</td>\n",
              "      <td>eelgwd1</td>\n",
              "    </tr>\n",
              "    <tr>\n",
              "      <th>4</th>\n",
              "      <td>they got bored from haunting earth for thousan...</td>\n",
              "      <td>6</td>\n",
              "      <td>eem5uti</td>\n",
              "    </tr>\n",
              "    <tr>\n",
              "      <th>...</th>\n",
              "      <td>...</td>\n",
              "      <td>...</td>\n",
              "      <td>...</td>\n",
              "    </tr>\n",
              "    <tr>\n",
              "      <th>5421</th>\n",
              "      <td>easy just include name to continue to torment ...</td>\n",
              "      <td>6</td>\n",
              "      <td>edy4kl7</td>\n",
              "    </tr>\n",
              "    <tr>\n",
              "      <th>5422</th>\n",
              "      <td>thanks i was diagnosed with bp 1 after the hos...</td>\n",
              "      <td>0</td>\n",
              "      <td>efeeasc</td>\n",
              "    </tr>\n",
              "    <tr>\n",
              "      <th>5424</th>\n",
              "      <td>daddy issues name</td>\n",
              "      <td>6</td>\n",
              "      <td>efbiugo</td>\n",
              "    </tr>\n",
              "    <tr>\n",
              "      <th>5425</th>\n",
              "      <td>so glad i discovered that subreddit a couple m...</td>\n",
              "      <td>0</td>\n",
              "      <td>efbvgp9</td>\n",
              "    </tr>\n",
              "    <tr>\n",
              "      <th>5426</th>\n",
              "      <td>had to watch elmo in grouchland one time too m...</td>\n",
              "      <td>6</td>\n",
              "      <td>edtjpv6</td>\n",
              "    </tr>\n",
              "  </tbody>\n",
              "</table>\n",
              "<p>4503 rows × 3 columns</p>\n",
              "</div>\n",
              "    <div class=\"colab-df-buttons\">\n",
              "\n",
              "  <div class=\"colab-df-container\">\n",
              "    <button class=\"colab-df-convert\" onclick=\"convertToInteractive('df-1733cb08-3866-4131-8392-33429fde920f')\"\n",
              "            title=\"Convert this dataframe to an interactive table.\"\n",
              "            style=\"display:none;\">\n",
              "\n",
              "  <svg xmlns=\"http://www.w3.org/2000/svg\" height=\"24px\" viewBox=\"0 -960 960 960\">\n",
              "    <path d=\"M120-120v-720h720v720H120Zm60-500h600v-160H180v160Zm220 220h160v-160H400v160Zm0 220h160v-160H400v160ZM180-400h160v-160H180v160Zm440 0h160v-160H620v160ZM180-180h160v-160H180v160Zm440 0h160v-160H620v160Z\"/>\n",
              "  </svg>\n",
              "    </button>\n",
              "\n",
              "  <style>\n",
              "    .colab-df-container {\n",
              "      display:flex;\n",
              "      gap: 12px;\n",
              "    }\n",
              "\n",
              "    .colab-df-convert {\n",
              "      background-color: #E8F0FE;\n",
              "      border: none;\n",
              "      border-radius: 50%;\n",
              "      cursor: pointer;\n",
              "      display: none;\n",
              "      fill: #1967D2;\n",
              "      height: 32px;\n",
              "      padding: 0 0 0 0;\n",
              "      width: 32px;\n",
              "    }\n",
              "\n",
              "    .colab-df-convert:hover {\n",
              "      background-color: #E2EBFA;\n",
              "      box-shadow: 0px 1px 2px rgba(60, 64, 67, 0.3), 0px 1px 3px 1px rgba(60, 64, 67, 0.15);\n",
              "      fill: #174EA6;\n",
              "    }\n",
              "\n",
              "    .colab-df-buttons div {\n",
              "      margin-bottom: 4px;\n",
              "    }\n",
              "\n",
              "    [theme=dark] .colab-df-convert {\n",
              "      background-color: #3B4455;\n",
              "      fill: #D2E3FC;\n",
              "    }\n",
              "\n",
              "    [theme=dark] .colab-df-convert:hover {\n",
              "      background-color: #434B5C;\n",
              "      box-shadow: 0px 1px 3px 1px rgba(0, 0, 0, 0.15);\n",
              "      filter: drop-shadow(0px 1px 2px rgba(0, 0, 0, 0.3));\n",
              "      fill: #FFFFFF;\n",
              "    }\n",
              "  </style>\n",
              "\n",
              "    <script>\n",
              "      const buttonEl =\n",
              "        document.querySelector('#df-1733cb08-3866-4131-8392-33429fde920f button.colab-df-convert');\n",
              "      buttonEl.style.display =\n",
              "        google.colab.kernel.accessAllowed ? 'block' : 'none';\n",
              "\n",
              "      async function convertToInteractive(key) {\n",
              "        const element = document.querySelector('#df-1733cb08-3866-4131-8392-33429fde920f');\n",
              "        const dataTable =\n",
              "          await google.colab.kernel.invokeFunction('convertToInteractive',\n",
              "                                                    [key], {});\n",
              "        if (!dataTable) return;\n",
              "\n",
              "        const docLinkHtml = 'Like what you see? Visit the ' +\n",
              "          '<a target=\"_blank\" href=https://colab.research.google.com/notebooks/data_table.ipynb>data table notebook</a>'\n",
              "          + ' to learn more about interactive tables.';\n",
              "        element.innerHTML = '';\n",
              "        dataTable['output_type'] = 'display_data';\n",
              "        await google.colab.output.renderOutput(dataTable, element);\n",
              "        const docLink = document.createElement('div');\n",
              "        docLink.innerHTML = docLinkHtml;\n",
              "        element.appendChild(docLink);\n",
              "      }\n",
              "    </script>\n",
              "  </div>\n",
              "\n",
              "\n",
              "<div id=\"df-e65d57ee-8216-4ed3-b6c6-cf384266c1ed\">\n",
              "  <button class=\"colab-df-quickchart\" onclick=\"quickchart('df-e65d57ee-8216-4ed3-b6c6-cf384266c1ed')\"\n",
              "            title=\"Suggest charts\"\n",
              "            style=\"display:none;\">\n",
              "\n",
              "<svg xmlns=\"http://www.w3.org/2000/svg\" height=\"24px\"viewBox=\"0 0 24 24\"\n",
              "     width=\"24px\">\n",
              "    <g>\n",
              "        <path d=\"M19 3H5c-1.1 0-2 .9-2 2v14c0 1.1.9 2 2 2h14c1.1 0 2-.9 2-2V5c0-1.1-.9-2-2-2zM9 17H7v-7h2v7zm4 0h-2V7h2v10zm4 0h-2v-4h2v4z\"/>\n",
              "    </g>\n",
              "</svg>\n",
              "  </button>\n",
              "\n",
              "<style>\n",
              "  .colab-df-quickchart {\n",
              "      --bg-color: #E8F0FE;\n",
              "      --fill-color: #1967D2;\n",
              "      --hover-bg-color: #E2EBFA;\n",
              "      --hover-fill-color: #174EA6;\n",
              "      --disabled-fill-color: #AAA;\n",
              "      --disabled-bg-color: #DDD;\n",
              "  }\n",
              "\n",
              "  [theme=dark] .colab-df-quickchart {\n",
              "      --bg-color: #3B4455;\n",
              "      --fill-color: #D2E3FC;\n",
              "      --hover-bg-color: #434B5C;\n",
              "      --hover-fill-color: #FFFFFF;\n",
              "      --disabled-bg-color: #3B4455;\n",
              "      --disabled-fill-color: #666;\n",
              "  }\n",
              "\n",
              "  .colab-df-quickchart {\n",
              "    background-color: var(--bg-color);\n",
              "    border: none;\n",
              "    border-radius: 50%;\n",
              "    cursor: pointer;\n",
              "    display: none;\n",
              "    fill: var(--fill-color);\n",
              "    height: 32px;\n",
              "    padding: 0;\n",
              "    width: 32px;\n",
              "  }\n",
              "\n",
              "  .colab-df-quickchart:hover {\n",
              "    background-color: var(--hover-bg-color);\n",
              "    box-shadow: 0 1px 2px rgba(60, 64, 67, 0.3), 0 1px 3px 1px rgba(60, 64, 67, 0.15);\n",
              "    fill: var(--button-hover-fill-color);\n",
              "  }\n",
              "\n",
              "  .colab-df-quickchart-complete:disabled,\n",
              "  .colab-df-quickchart-complete:disabled:hover {\n",
              "    background-color: var(--disabled-bg-color);\n",
              "    fill: var(--disabled-fill-color);\n",
              "    box-shadow: none;\n",
              "  }\n",
              "\n",
              "  .colab-df-spinner {\n",
              "    border: 2px solid var(--fill-color);\n",
              "    border-color: transparent;\n",
              "    border-bottom-color: var(--fill-color);\n",
              "    animation:\n",
              "      spin 1s steps(1) infinite;\n",
              "  }\n",
              "\n",
              "  @keyframes spin {\n",
              "    0% {\n",
              "      border-color: transparent;\n",
              "      border-bottom-color: var(--fill-color);\n",
              "      border-left-color: var(--fill-color);\n",
              "    }\n",
              "    20% {\n",
              "      border-color: transparent;\n",
              "      border-left-color: var(--fill-color);\n",
              "      border-top-color: var(--fill-color);\n",
              "    }\n",
              "    30% {\n",
              "      border-color: transparent;\n",
              "      border-left-color: var(--fill-color);\n",
              "      border-top-color: var(--fill-color);\n",
              "      border-right-color: var(--fill-color);\n",
              "    }\n",
              "    40% {\n",
              "      border-color: transparent;\n",
              "      border-right-color: var(--fill-color);\n",
              "      border-top-color: var(--fill-color);\n",
              "    }\n",
              "    60% {\n",
              "      border-color: transparent;\n",
              "      border-right-color: var(--fill-color);\n",
              "    }\n",
              "    80% {\n",
              "      border-color: transparent;\n",
              "      border-right-color: var(--fill-color);\n",
              "      border-bottom-color: var(--fill-color);\n",
              "    }\n",
              "    90% {\n",
              "      border-color: transparent;\n",
              "      border-bottom-color: var(--fill-color);\n",
              "    }\n",
              "  }\n",
              "</style>\n",
              "\n",
              "  <script>\n",
              "    async function quickchart(key) {\n",
              "      const quickchartButtonEl =\n",
              "        document.querySelector('#' + key + ' button');\n",
              "      quickchartButtonEl.disabled = true;  // To prevent multiple clicks.\n",
              "      quickchartButtonEl.classList.add('colab-df-spinner');\n",
              "      try {\n",
              "        const charts = await google.colab.kernel.invokeFunction(\n",
              "            'suggestCharts', [key], {});\n",
              "      } catch (error) {\n",
              "        console.error('Error during call to suggestCharts:', error);\n",
              "      }\n",
              "      quickchartButtonEl.classList.remove('colab-df-spinner');\n",
              "      quickchartButtonEl.classList.add('colab-df-quickchart-complete');\n",
              "    }\n",
              "    (() => {\n",
              "      let quickchartButtonEl =\n",
              "        document.querySelector('#df-e65d57ee-8216-4ed3-b6c6-cf384266c1ed button');\n",
              "      quickchartButtonEl.style.display =\n",
              "        google.colab.kernel.accessAllowed ? 'block' : 'none';\n",
              "    })();\n",
              "  </script>\n",
              "</div>\n",
              "    </div>\n",
              "  </div>\n"
            ]
          },
          "metadata": {},
          "execution_count": 32
        }
      ]
    },
    {
      "cell_type": "code",
      "source": [
        "print(train_df.head())\n",
        "print(dev_df.head())\n",
        "print(test_df.head())"
      ],
      "metadata": {
        "colab": {
          "base_uri": "https://localhost:8080/"
        },
        "id": "XK-PRbDhISVi",
        "executionInfo": {
          "status": "ok",
          "timestamp": 1732835681867,
          "user_tz": 360,
          "elapsed": 125,
          "user": {
            "displayName": "",
            "userId": ""
          }
        },
        "outputId": "e632177a-4d81-4504-ed03-39eb29b73869"
      },
      "id": "XK-PRbDhISVi",
      "execution_count": 33,
      "outputs": [
        {
          "output_type": "stream",
          "name": "stdout",
          "text": [
            "                                             Comment  Emotion Comment ID\n",
            "0  my favourite food is anything i didnt have to ...        6    eebbqej\n",
            "1  now if he does off himself everyone will think...        6    ed00q6i\n",
            "2                     why the fuck is bayless isoing        3    eezlygj\n",
            "3                        to make her feel threatened        5    ed7ypvh\n",
            "4                             dirty southern wankers        3    ed0bdzj\n",
            "                                             Comment  Emotion Comment ID\n",
            "0  is this in new orleans i really feel like this...        6    edgurhb\n",
            "2                 ive never been this sad in my life        2    edcu99z\n",
            "4  he could have easily taken a real camera from ...        0    eepig6r\n",
            "5  thank you for your vote of confidence but we s...        0    eczm50f\n",
            "6  wah mum other people call me on my bullshit an...        3    ed4yr9r\n",
            "                                             Comment  Emotion Comment ID\n",
            "0  im really sorry about your situation although ...        2    eecwqtt\n",
            "1        its wonderful because its awful at not with        0    ed5f85d\n",
            "2  kings fan here good luck to you guys will be a...        0    een27c3\n",
            "3  i didnt know that thank you for teaching me so...        0    eelgwd1\n",
            "4  they got bored from haunting earth for thousan...        6    eem5uti\n"
          ]
        }
      ]
    },
    {
      "cell_type": "markdown",
      "source": [
        "## Plotting a graph to see value distribution in the dataset"
      ],
      "metadata": {
        "id": "MviUD31FALa1"
      },
      "id": "MviUD31FALa1"
    },
    {
      "cell_type": "code",
      "source": [
        "import matplotlib.pyplot as plt\n",
        "\n",
        "# Assuming train_df is already loaded and contains an 'Emotion' column\n",
        "plt.figure(figsize=(10, 6))\n",
        "train_df['Emotion'].value_counts().sort_index().plot(kind='bar', color='skyblue')\n",
        "plt.title('Emotion Distribution in Training Dataset')\n",
        "plt.xlabel('Emotion')\n",
        "plt.ylabel('Frequency')\n",
        "plt.xticks(rotation=0)\n",
        "plt.grid(axis='y', linestyle='--', alpha=0.7)\n",
        "plt.show()\n"
      ],
      "metadata": {
        "colab": {
          "base_uri": "https://localhost:8080/",
          "height": 564
        },
        "id": "uV0DQQkE-oQb",
        "executionInfo": {
          "status": "ok",
          "timestamp": 1732835692364,
          "user_tz": 360,
          "elapsed": 266,
          "user": {
            "displayName": "",
            "userId": ""
          }
        },
        "outputId": "f4389b93-2996-45d6-d754-b90ac2f5f7e6"
      },
      "id": "uV0DQQkE-oQb",
      "execution_count": 34,
      "outputs": [
        {
          "output_type": "display_data",
          "data": {
            "text/plain": [
              "<Figure size 1000x600 with 1 Axes>"
            ],
            "image/png": "[encoded data removed]"
          },
          "metadata": {}
        }
      ]
    },
    {
      "cell_type": "markdown",
      "source": [
        "## Pip installing packages"
      ],
      "metadata": {
        "id": "7e0yJPMBB7xJ"
      },
      "id": "7e0yJPMBB7xJ"
    },
    {
      "cell_type": "code",
      "source": [
        "!pip install transformers torch"
      ],
      "metadata": {
        "colab": {
          "base_uri": "https://localhost:8080/"
        },
        "id": "hs3TlzVPIU4_",
        "executionInfo": {
          "status": "ok",
          "timestamp": 1732834107809,
          "user_tz": 360,
          "elapsed": 3674,
          "user": {
            "displayName": "",
            "userId": ""
          }
        },
        "outputId": "c390234a-58dc-4cdf-9dfe-72df1996bd76"
      },
      "id": "hs3TlzVPIU4_",
      "execution_count": 8,
      "outputs": [
        {
          "output_type": "stream",
          "name": "stdout",
          "text": [
            "Requirement already satisfied: transformers in /usr/local/lib/python3.10/dist-packages (4.44.2)\n",
            "Requirement already satisfied: torch in /usr/local/lib/python3.10/dist-packages (2.5.0+cu121)\n",
            "Requirement already satisfied: filelock in /usr/local/lib/python3.10/dist-packages (from transformers) (3.16.1)\n",
            "Requirement already satisfied: huggingface-hub<1.0,>=0.23.2 in /usr/local/lib/python3.10/dist-packages (from transformers) (0.24.7)\n",
            "Requirement already satisfied: numpy>=1.17 in /usr/local/lib/python3.10/dist-packages (from transformers) (1.26.4)\n",
            "Requirement already satisfied: packaging>=20.0 in /usr/local/lib/python3.10/dist-packages (from transformers) (24.1)\n",
            "Requirement already satisfied: pyyaml>=5.1 in /usr/local/lib/python3.10/dist-packages (from transformers) (6.0.2)\n",
            "Requirement already satisfied: regex!=2019.12.17 in /usr/local/lib/python3.10/dist-packages (from transformers) (2024.9.11)\n",
            "Requirement already satisfied: requests in /usr/local/lib/python3.10/dist-packages (from transformers) (2.32.3)\n",
            "Requirement already satisfied: safetensors>=0.4.1 in /usr/local/lib/python3.10/dist-packages (from transformers) (0.4.5)\n",
            "Requirement already satisfied: tokenizers<0.20,>=0.19 in /usr/local/lib/python3.10/dist-packages (from transformers) (0.19.1)\n",
            "Requirement already satisfied: tqdm>=4.27 in /usr/local/lib/python3.10/dist-packages (from transformers) (4.66.6)\n",
            "Requirement already satisfied: typing-extensions>=4.8.0 in /usr/local/lib/python3.10/dist-packages (from torch) (4.12.2)\n",
            "Requirement already satisfied: networkx in /usr/local/lib/python3.10/dist-packages (from torch) (3.4.2)\n",
            "Requirement already satisfied: jinja2 in /usr/local/lib/python3.10/dist-packages (from torch) (3.1.4)\n",
            "Requirement already satisfied: fsspec in /usr/local/lib/python3.10/dist-packages (from torch) (2024.10.0)\n",
            "Requirement already satisfied: sympy==1.13.1 in /usr/local/lib/python3.10/dist-packages (from torch) (1.13.1)\n",
            "Requirement already satisfied: mpmath<1.4,>=1.1.0 in /usr/local/lib/python3.10/dist-packages (from sympy==1.13.1->torch) (1.3.0)\n",
            "Requirement already satisfied: MarkupSafe>=2.0 in /usr/local/lib/python3.10/dist-packages (from jinja2->torch) (3.0.2)\n",
            "Requirement already satisfied: charset-normalizer<4,>=2 in /usr/local/lib/python3.10/dist-packages (from requests->transformers) (3.4.0)\n",
            "Requirement already satisfied: idna<4,>=2.5 in /usr/local/lib/python3.10/dist-packages (from requests->transformers) (3.10)\n",
            "Requirement already satisfied: urllib3<3,>=1.21.1 in /usr/local/lib/python3.10/dist-packages (from requests->transformers) (2.2.3)\n",
            "Requirement already satisfied: certifi>=2017.4.17 in /usr/local/lib/python3.10/dist-packages (from requests->transformers) (2024.8.30)\n"
          ]
        }
      ]
    },
    {
      "cell_type": "code",
      "source": [
        "!pip install nlpaug"
      ],
      "metadata": {
        "colab": {
          "base_uri": "https://localhost:8080/"
        },
        "id": "m3Cg2jtAAYUi",
        "executionInfo": {
          "status": "ok",
          "timestamp": 1732834867279,
          "user_tz": 360,
          "elapsed": 3471,
          "user": {
            "displayName": "",
            "userId": ""
          }
        },
        "outputId": "bb392883-f4d5-4826-9462-980f72928049"
      },
      "id": "m3Cg2jtAAYUi",
      "execution_count": 16,
      "outputs": [
        {
          "output_type": "stream",
          "name": "stdout",
          "text": [
            "Collecting nlpaug\n",
            "  Downloading nlpaug-1.1.11-py3-none-any.whl.metadata (14 kB)\n",
            "Requirement already satisfied: numpy>=1.16.2 in /usr/local/lib/python3.10/dist-packages (from nlpaug) (1.26.4)\n",
            "Requirement already satisfied: pandas>=1.2.0 in /usr/local/lib/python3.10/dist-packages (from nlpaug) (2.2.2)\n",
            "Requirement already satisfied: requests>=2.22.0 in /usr/local/lib/python3.10/dist-packages (from nlpaug) (2.32.3)\n",
            "Requirement already satisfied: gdown>=4.0.0 in /usr/local/lib/python3.10/dist-packages (from nlpaug) (5.2.0)\n",
            "Requirement already satisfied: beautifulsoup4 in /usr/local/lib/python3.10/dist-packages (from gdown>=4.0.0->nlpaug) (4.12.3)\n",
            "Requirement already satisfied: filelock in /usr/local/lib/python3.10/dist-packages (from gdown>=4.0.0->nlpaug) (3.16.1)\n",
            "Requirement already satisfied: tqdm in /usr/local/lib/python3.10/dist-packages (from gdown>=4.0.0->nlpaug) (4.66.6)\n",
            "Requirement already satisfied: python-dateutil>=2.8.2 in /usr/local/lib/python3.10/dist-packages (from pandas>=1.2.0->nlpaug) (2.8.2)\n",
            "Requirement already satisfied: pytz>=2020.1 in /usr/local/lib/python3.10/dist-packages (from pandas>=1.2.0->nlpaug) (2024.2)\n",
            "Requirement already satisfied: tzdata>=2022.7 in /usr/local/lib/python3.10/dist-packages (from pandas>=1.2.0->nlpaug) (2024.2)\n",
            "Requirement already satisfied: charset-normalizer<4,>=2 in /usr/local/lib/python3.10/dist-packages (from requests>=2.22.0->nlpaug) (3.4.0)\n",
            "Requirement already satisfied: idna<4,>=2.5 in /usr/local/lib/python3.10/dist-packages (from requests>=2.22.0->nlpaug) (3.10)\n",
            "Requirement already satisfied: urllib3<3,>=1.21.1 in /usr/local/lib/python3.10/dist-packages (from requests>=2.22.0->nlpaug) (2.2.3)\n",
            "Requirement already satisfied: certifi>=2017.4.17 in /usr/local/lib/python3.10/dist-packages (from requests>=2.22.0->nlpaug) (2024.8.30)\n",
            "Requirement already satisfied: six>=1.5 in /usr/local/lib/python3.10/dist-packages (from python-dateutil>=2.8.2->pandas>=1.2.0->nlpaug) (1.16.0)\n",
            "Requirement already satisfied: soupsieve>1.2 in /usr/local/lib/python3.10/dist-packages (from beautifulsoup4->gdown>=4.0.0->nlpaug) (2.6)\n",
            "Requirement already satisfied: PySocks!=1.5.7,>=1.5.6 in /usr/local/lib/python3.10/dist-packages (from requests[socks]->gdown>=4.0.0->nlpaug) (1.7.1)\n",
            "Downloading nlpaug-1.1.11-py3-none-any.whl (410 kB)\n",
            "\u001b[2K   \u001b[90m━━━━━━━━━━━━━━━━━━━━━━━━━━━━━━━━━━━━━━━━\u001b[0m \u001b[32m410.5/410.5 kB\u001b[0m \u001b[31m8.5 MB/s\u001b[0m eta \u001b[36m0:00:00\u001b[0m\n",
            "\u001b[?25hInstalling collected packages: nlpaug\n",
            "Successfully installed nlpaug-1.1.11\n"
          ]
        }
      ]
    },
    {
      "cell_type": "markdown",
      "source": [
        "## Model Tokenizing and Training"
      ],
      "metadata": {
        "id": "0bMLxgI-KxNJ"
      },
      "id": "0bMLxgI-KxNJ"
    },
    {
      "cell_type": "code",
      "source": [
        "from transformers import BertTokenizer\n",
        "\n",
        "# Load the pre-trained BERT tokenizer\n",
        "tokenizer = BertTokenizer.from_pretrained('bert-base-uncased')\n",
        "\n",
        "train_encodings = tokenizer(train_df['Comment'].tolist(), truncation=True, padding=True)\n",
        "dev_encodings = tokenizer(dev_df['Comment'].tolist(), truncation=True, padding=True)\n",
        "test_encodings = tokenizer(test_df['Comment'].tolist(), truncation=True, padding=True)"
      ],
      "metadata": {
        "id": "FkdGheYqIZgU",
        "executionInfo": {
          "status": "ok",
          "timestamp": 1732835728041,
          "user_tz": 360,
          "elapsed": 31119,
          "user": {
            "displayName": "",
            "userId": ""
          }
        },
        "colab": {
          "base_uri": "https://localhost:8080/"
        },
        "outputId": "6f492e34-ced8-4fcb-d7eb-fd3a09a380d3"
      },
      "id": "FkdGheYqIZgU",
      "execution_count": 35,
      "outputs": [
        {
          "output_type": "stream",
          "name": "stderr",
          "text": [
            "/usr/local/lib/python3.10/dist-packages/transformers/tokenization_utils_base.py:1601: FutureWarning: `clean_up_tokenization_spaces` was not set. It will be set to `True` by default. This behavior will be depracted in transformers v4.45, and will be then set to `False` by default. For more details check this issue: https://github.com/huggingface/transformers/issues/31884\n",
            "  warnings.warn(\n"
          ]
        }
      ]
    },
    {
      "cell_type": "code",
      "source": [
        "import torch\n",
        "\n",
        "class EmotionDataset(torch.utils.data.Dataset):\n",
        "    def __init__(self, encodings, labels):\n",
        "        self.encodings = encodings\n",
        "        self.labels = labels\n",
        "\n",
        "    def __getitem__(self, idx):\n",
        "        item = {key: torch.tensor(val[idx]) for key, val in self.encodings.items()}\n",
        "        item['labels'] = torch.tensor(self.labels[idx], dtype=torch.long)  # Ensure labels are torch.long\n",
        "        return item\n",
        "\n",
        "    def __len__(self):\n",
        "        return len(self.labels)\n",
        "\n",
        "# Convert the labels to a list or a NumPy array before creating the datasets\n",
        "train_labels = train_df['Emotion'].tolist()  # or train_df['Emotion'].values for NumPy array\n",
        "dev_labels = dev_df['Emotion'].tolist()\n",
        "test_labels = test_df['Emotion'].tolist()\n",
        "\n",
        "# Create datasets\n",
        "train_dataset = EmotionDataset(train_encodings, train_labels)\n",
        "dev_dataset = EmotionDataset(dev_encodings, dev_labels)\n",
        "test_dataset = EmotionDataset(test_encodings, test_labels)\n"
      ],
      "metadata": {
        "id": "eEsnzARLIe1W",
        "executionInfo": {
          "status": "ok",
          "timestamp": 1732835731374,
          "user_tz": 360,
          "elapsed": 132,
          "user": {
            "displayName": "",
            "userId": ""
          }
        }
      },
      "id": "eEsnzARLIe1W",
      "execution_count": 36,
      "outputs": []
    },
    {
      "cell_type": "code",
      "source": [
        "from transformers import BertForSequenceClassification, Trainer, TrainingArguments\n",
        "import pickle\n",
        "from transformers import TrainerCallback\n",
        "\n",
        "# Load BERT model for classification\n",
        "model = BertForSequenceClassification.from_pretrained('bert-base-uncased', num_labels=28)\n",
        "\n",
        "# Custom Callback to save model after each epoch\n",
        "class SaveModelCallback(TrainerCallback):\n",
        "    def on_epoch_end(self, args, state, control, model=None, **kwargs):\n",
        "        epoch = int(state.epoch)\n",
        "        model_path = f'/content/model2_epoch_{epoch}.pkl'\n",
        "        with open(model_path, 'wb') as f:\n",
        "            pickle.dump(model, f)\n",
        "        print(f\"Model saved at {model_path}\")\n",
        "\n",
        "# Updated training arguments\n",
        "training_args = TrainingArguments(\n",
        "    output_dir='./results',             # Directory for model checkpoints\n",
        "    evaluation_strategy=\"epoch\",       # Evaluate at the end of each epoch\n",
        "    learning_rate=1e-5,                # Slightly increased learning rate for faster convergence\n",
        "    per_device_train_batch_size=16,    # Reduced batch size if memory constraints arise\n",
        "    per_device_eval_batch_size=16,     # Matching eval batch size to train batch size\n",
        "    num_train_epochs=5,               # Adjusted to prevent overfitting; consider early stopping\n",
        "    weight_decay=0.01,                 # Standard weight decay for regularization\n",
        "    save_strategy=\"epoch\",             # Save checkpoints after each epoch\n",
        "    save_total_limit=3,                # Keep only the last 3 checkpoints\n",
        "    logging_dir='./logs',              # Directory for logs\n",
        "    logging_steps=50,                  # Log more frequently for closer monitoring\n",
        "    warmup_steps=300,                  # Reduce warmup steps for smoother learning rate ramp\n",
        "    lr_scheduler_type=\"cosine\",        # Use a cosine schedule for learning rate decay\n",
        "    load_best_model_at_end=True,       # Automatically load the best model after training\n",
        "    metric_for_best_model=\"eval_loss\", # Use evaluation loss to determine the best model\n",
        "    gradient_accumulation_steps=2,     # Accumulate gradients for larger effective batch size                       # Use mixed precision training for faster computation\n",
        "    seed=42                            # Seed for reproducibility\n",
        ")\n",
        "\n",
        "trainer = Trainer(\n",
        "    model=model,                          # Your model instance\n",
        "    args=training_args,                   # Training arguments\n",
        "    train_dataset=train_dataset,          # Training dataset\n",
        "    eval_dataset=dev_dataset,            # Evaluation dataset\n",
        "    tokenizer=tokenizer,                  # Tokenizer for preprocessing\n",
        "    callbacks=[SaveModelCallback()],      # Add the custom callback to save models\n",
        ")\n",
        "\n",
        "trainer.train()"
      ],
      "metadata": {
        "colab": {
          "base_uri": "https://localhost:8080/",
          "height": 375
        },
        "id": "uKvadI_VI-Ht",
        "outputId": "0e5de171-41ec-4753-e045-0b1f989db6da",
        "executionInfo": {
          "status": "ok",
          "timestamp": 1732838917969,
          "user_tz": 360,
          "elapsed": 3171242,
          "user": {
            "displayName": "",
            "userId": ""
          }
        }
      },
      "id": "uKvadI_VI-Ht",
      "execution_count": 38,
      "outputs": [
        {
          "output_type": "stream",
          "name": "stderr",
          "text": [
            "Some weights of BertForSequenceClassification were not initialized from the model checkpoint at bert-base-uncased and are newly initialized: ['classifier.bias', 'classifier.weight']\n",
            "You should probably TRAIN this model on a down-stream task to be able to use it for predictions and inference.\n",
            "/usr/local/lib/python3.10/dist-packages/transformers/training_args.py:1525: FutureWarning: `evaluation_strategy` is deprecated and will be removed in version 4.46 of 🤗 Transformers. Use `eval_strategy` instead\n",
            "  warnings.warn(\n"
          ]
        },
        {
          "output_type": "display_data",
          "data": {
            "text/plain": [
              "<IPython.core.display.HTML object>"
            ],
            "text/html": [
              "\n",
              "    <div>\n",
              "      \n",
              "      <progress value='10380' max='10380' style='width:300px; height:20px; vertical-align: middle;'></progress>\n",
              "      [10380/10380 52:49, Epoch 4/5]\n",
              "    </div>\n",
              "    <table border=\"1\" class=\"dataframe\">\n",
              "  <thead>\n",
              " <tr style=\"text-align: left;\">\n",
              "      <th>Epoch</th>\n",
              "      <th>Training Loss</th>\n",
              "      <th>Validation Loss</th>\n",
              "    </tr>\n",
              "  </thead>\n",
              "  <tbody>\n",
              "    <tr>\n",
              "      <td>0</td>\n",
              "      <td>0.917300</td>\n",
              "      <td>0.833718</td>\n",
              "    </tr>\n",
              "    <tr>\n",
              "      <td>2</td>\n",
              "      <td>0.574700</td>\n",
              "      <td>0.909469</td>\n",
              "    </tr>\n",
              "    <tr>\n",
              "      <td>4</td>\n",
              "      <td>0.397800</td>\n",
              "      <td>0.957113</td>\n",
              "    </tr>\n",
              "  </tbody>\n",
              "</table><p>"
            ]
          },
          "metadata": {}
        },
        {
          "output_type": "stream",
          "name": "stdout",
          "text": [
            "Model saved at /content/model2_epoch_0.pkl\n",
            "Model saved at /content/model2_epoch_2.pkl\n",
            "Model saved at /content/model2_epoch_2.pkl\n",
            "Model saved at /content/model2_epoch_4.pkl\n",
            "Model saved at /content/model2_epoch_4.pkl\n"
          ]
        },
        {
          "output_type": "execute_result",
          "data": {
            "text/plain": [
              "TrainOutput(global_step=10380, training_loss=0.700795617498644, metrics={'train_runtime': 3169.8707, 'train_samples_per_second': 104.809, 'train_steps_per_second': 3.275, 'total_flos': 2.031675484811347e+16, 'train_loss': 0.700795617498644, 'epoch': 4.998796051047435})"
            ]
          },
          "metadata": {},
          "execution_count": 38
        }
      ]
    },
    {
      "cell_type": "code",
      "source": [
        "from torch.utils.data import DataLoader\n",
        "\n",
        "model.eval()\n",
        "\n",
        "train_loader = DataLoader(train_dataset, batch_size = 16)\n",
        "\n",
        "true_labels = []\n",
        "predicted_labels = []\n",
        "\n",
        "with torch.no_grad():\n",
        "    for batch in train_loader:\n",
        "        # Move input data to the appropriate device\n",
        "        input_ids = batch['input_ids'].to('cuda' if torch.cuda.is_available() else 'cpu')\n",
        "        attention_mask = batch['attention_mask'].to('cuda' if torch.cuda.is_available() else 'cpu')\n",
        "        labels = batch['labels'].to('cuda' if torch.cuda.is_available() else 'cpu')\n",
        "\n",
        "        # Get model predictions\n",
        "        outputs = model(input_ids=input_ids, attention_mask=attention_mask)\n",
        "        logits = outputs.logits\n",
        "\n",
        "        # Convert logits to predicted labels\n",
        "        preds = torch.argmax(logits, dim=1).cpu().numpy()\n",
        "        true = labels.cpu().numpy()\n",
        "\n",
        "        # Store true and predicted labels\n",
        "        true_labels.extend(true)\n",
        "        predicted_labels.extend(preds)\n",
        "\n"
      ],
      "metadata": {
        "id": "LpelheF7S-PB",
        "executionInfo": {
          "status": "ok",
          "timestamp": 1732842192234,
          "user_tz": 360,
          "elapsed": 208275,
          "user": {
            "displayName": "",
            "userId": ""
          }
        }
      },
      "id": "LpelheF7S-PB",
      "execution_count": 39,
      "outputs": []
    },
    {
      "cell_type": "markdown",
      "source": [
        "## Precision Metrics"
      ],
      "metadata": {
        "id": "9R3cOcHpCA6p"
      },
      "id": "9R3cOcHpCA6p"
    },
    {
      "cell_type": "code",
      "source": [
        "from sklearn.metrics import classification_report\n",
        "\n",
        "# Generate a classification report (precision, recall, f1-score, support)\n",
        "report = classification_report(true_labels, predicted_labels, target_names=[str(i) for i in range(7)])  # Adjust if needed\n",
        "print(report)"
      ],
      "metadata": {
        "colab": {
          "base_uri": "https://localhost:8080/"
        },
        "id": "KRGXc7zJhkNP",
        "executionInfo": {
          "status": "ok",
          "timestamp": 1732842322453,
          "user_tz": 360,
          "elapsed": 419,
          "user": {
            "displayName": "",
            "userId": ""
          }
        },
        "outputId": "e43725db-ed85-4cd5-816b-f2d5e1043b23"
      },
      "id": "KRGXc7zJhkNP",
      "execution_count": 40,
      "outputs": [
        {
          "output_type": "stream",
          "name": "stdout",
          "text": [
            "              precision    recall  f1-score   support\n",
            "\n",
            "           0       0.89      0.88      0.88     12843\n",
            "           1       0.67      0.66      0.66      5796\n",
            "           2       0.78      0.60      0.68      8860\n",
            "           3       0.74      0.71      0.72     14740\n",
            "           4       0.58      0.67      0.62      8924\n",
            "           5       0.71      0.70      0.70      2460\n",
            "           6       0.71      0.78      0.74     12823\n",
            "\n",
            "    accuracy                           0.73     66446\n",
            "   macro avg       0.72      0.71      0.72     66446\n",
            "weighted avg       0.74      0.73      0.73     66446\n",
            "\n"
          ]
        }
      ]
    },
    {
      "cell_type": "code",
      "source": [
        "import matplotlib.pyplot as plt\n",
        "from sklearn.metrics import precision_recall_fscore_support\n",
        "\n",
        "emotion_labels = [\n",
        "    \"Happiness\", \"Surprise\", \"Sadness\", \"Anger\", \"Disgust\", \"Fear\", \"Neutral\"\n",
        "]\n",
        "# Calculate precision, recall, and f1-score for each class\n",
        "precision, recall, f1, _ = precision_recall_fscore_support(true_labels, predicted_labels, labels=range(len(emotion_labels)))\n",
        "\n",
        "# Create a bar plot\n",
        "x = range(len(precision))  # Number of classes\n",
        "\n",
        "plt.figure(figsize=(12, 6))\n",
        "bar_width = 0.25  # Adjust for spacing between bars\n",
        "plt.bar([i - bar_width for i in x], precision, width=bar_width, alpha=0.6, label='Precision', color='b')\n",
        "plt.bar(x, recall, width=bar_width, alpha=0.6, label='Recall', color='g')\n",
        "plt.bar([i + bar_width for i in x], f1, width=bar_width, alpha=0.6, label='F1-Score', color='r')\n",
        "plt.xlabel('Emotion')\n",
        "plt.ylabel('Score')\n",
        "plt.title('Precision, Recall, and F1-Score for Each Emotion')\n",
        "plt.xticks(x, emotion_labels, rotation=45)  # Use emotion labels instead of numeric labels\n",
        "plt.legend()\n",
        "plt.tight_layout()  # Adjust layout to prevent clipping\n",
        "plt.show()\n"
      ],
      "metadata": {
        "colab": {
          "base_uri": "https://localhost:8080/",
          "height": 607
        },
        "id": "JXdGMkCWkURI",
        "executionInfo": {
          "status": "ok",
          "timestamp": 1732852108243,
          "user_tz": 360,
          "elapsed": 495,
          "user": {
            "displayName": "",
            "userId": ""
          }
        },
        "outputId": "a1b1b937-e96c-43f3-fe90-10ea2b7e4fe3"
      },
      "id": "JXdGMkCWkURI",
      "execution_count": 45,
      "outputs": [
        {
          "output_type": "display_data",
          "data": {
            "text/plain": [
              "<Figure size 1200x600 with 1 Axes>"
            ],
            "image/png": "[encoded data removed]"
          },
          "metadata": {}
        }
      ]
    },
    {
      "cell_type": "markdown",
      "source": [
        "## Saving the Model as a pickle file"
      ],
      "metadata": {
        "id": "JT-SCMQpA8bo"
      },
      "id": "JT-SCMQpA8bo"
    },
    {
      "cell_type": "code",
      "source": [
        "import torch\n",
        "import pickle\n",
        "from transformers import BertForSequenceClassification\n",
        "\n",
        "# Example: Assume `model` is your fine-tuned BERT model\n",
        "model_path = '/content/final_emotion_model.pkl'\n",
        "\n",
        "# Save the model\n",
        "with open(model_path, 'wb') as f:\n",
        "    pickle.dump(model, f)\n",
        "\n",
        "print(f\"Model saved to {model_path}\")\n"
      ],
      "metadata": {
        "colab": {
          "base_uri": "https://localhost:8080/"
        },
        "id": "QFBgySn9Ax_5",
        "executionInfo": {
          "status": "ok",
          "timestamp": 1732851984339,
          "user_tz": 360,
          "elapsed": 1009,
          "user": {
            "displayName": "",
            "userId": ""
          }
        },
        "outputId": "0146218a-8ec0-4d4a-fd1e-2ab47c241e28"
      },
      "id": "QFBgySn9Ax_5",
      "execution_count": 44,
      "outputs": [
        {
          "output_type": "stream",
          "name": "stdout",
          "text": [
            "Model saved to /content/final_emotion_model.pkl\n"
          ]
        }
      ]
    }
  ],
  "metadata": {
    "kernelspec": {
      "display_name": "Python 3",
      "name": "python3"
    },
    "language_info": {
      "codemirror_mode": {
        "name": "ipython",
        "version": 3
      },
      "file_extension": ".py",
      "mimetype": "text/x-python",
      "name": "python",
      "nbconvert_exporter": "python",
      "pygments_lexer": "ipython3",
      "version": "3.10.10"
    },
    "colab": {
      "provenance": [],
      "name": "NLP_Project"
    }
  },
  "nbformat": 4,
  "nbformat_minor": 5
}